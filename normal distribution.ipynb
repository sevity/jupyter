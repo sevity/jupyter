{
 "cells": [
  {
   "cell_type": "code",
   "execution_count": 4,
   "metadata": {
    "collapsed": false
   },
   "outputs": [
    {
     "data": {
      "image/png": "[encoded data removed]",
      "text/plain": [
       "<matplotlib.figure.Figure at 0x5b15f98>"
      ]
     },
     "metadata": {},
     "output_type": "display_data"
    },
    {
     "name": "stdout",
     "output_type": "stream",
     "text": [
      "1.0\n"
     ]
    }
   ],
   "source": [
    "import random\n",
    "dice_cnt = 5\n",
    "iteration = 100000\n",
    "result = [0] * (6 * dice_cnt)\n",
    "for iter in xrange(iteration):\n",
    "    sum_ = 0\n",
    "    for ix in xrange(dice_cnt):\n",
    "        roll = random.randrange(0, 6)\n",
    "        sum_ += roll\n",
    "    result[sum_] += 1.0 / iteration\n",
    "\n",
    "import matplotlib.pyplot as plt\n",
    "plt.plot(range(1, 6 * dice_cnt + 1), result, 'o')\n",
    "plt.ylim(0, 0.5)\n",
    "plt.grid()\n",
    "plt.show()\n",
    "\n",
    "print sum(result)\n",
    "    "
   ]
  },
  {
   "cell_type": "code",
   "execution_count": null,
   "metadata": {
    "collapsed": true
   },
   "outputs": [],
   "source": []
  }
 ],
 "metadata": {
  "kernelspec": {
   "display_name": "Python 2",
   "language": "python",
   "name": "python2"
  },
  "language_info": {
   "codemirror_mode": {
    "name": "ipython",
    "version": 2
   },
   "file_extension": ".py",
   "mimetype": "text/x-python",
   "name": "python",
   "nbconvert_exporter": "python",
   "pygments_lexer": "ipython2",
   "version": "2.7.13"
  }
 },
 "nbformat": 4,
 "nbformat_minor": 2
}
