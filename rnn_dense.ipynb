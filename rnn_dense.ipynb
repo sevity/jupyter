{
 "cells": [
  {
   "cell_type": "code",
   "execution_count": 115,
   "metadata": {},
   "outputs": [
    {
     "data": {
      "image/png": "[encoded data removed]",
      "text/plain": [
       "<matplotlib.figure.Figure at 0x280872a1eb8>"
      ]
     },
     "metadata": {},
     "output_type": "display_data"
    }
   ],
   "source": [
    "data = \"\"\"\n",
    "\"Month\",\"International airline passengers: monthly totals in thousands. Jan 49 ? Dec 60\"\n",
    "\"1949-01\",112\n",
    "\"1949-02\",118\n",
    "\"1949-03\",132\n",
    "\"1949-04\",129\n",
    "\"1949-05\",121\n",
    "\"1949-06\",135\n",
    "\"1949-07\",148\n",
    "\"1949-08\",148\n",
    "\"1949-09\",136\n",
    "\"1949-10\",119\n",
    "\"1949-11\",104\n",
    "\"1949-12\",118\n",
    "\"1950-01\",115\n",
    "\"1950-02\",126\n",
    "\"1950-03\",141\n",
    "\"1950-04\",135\n",
    "\"1950-05\",125\n",
    "\"1950-06\",149\n",
    "\"1950-07\",170\n",
    "\"1950-08\",170\n",
    "\"1950-09\",158\n",
    "\"1950-10\",133\n",
    "\"1950-11\",114\n",
    "\"1950-12\",140\n",
    "\"1951-01\",145\n",
    "\"1951-02\",150\n",
    "\"1951-03\",178\n",
    "\"1951-04\",163\n",
    "\"1951-05\",172\n",
    "\"1951-06\",178\n",
    "\"1951-07\",199\n",
    "\"1951-08\",199\n",
    "\"1951-09\",184\n",
    "\"1951-10\",162\n",
    "\"1951-11\",146\n",
    "\"1951-12\",166\n",
    "\"1952-01\",171\n",
    "\"1952-02\",180\n",
    "\"1952-03\",193\n",
    "\"1952-04\",181\n",
    "\"1952-05\",183\n",
    "\"1952-06\",218\n",
    "\"1952-07\",230\n",
    "\"1952-08\",242\n",
    "\"1952-09\",209\n",
    "\"1952-10\",191\n",
    "\"1952-11\",172\n",
    "\"1952-12\",194\n",
    "\"1953-01\",196\n",
    "\"1953-02\",196\n",
    "\"1953-03\",236\n",
    "\"1953-04\",235\n",
    "\"1953-05\",229\n",
    "\"1953-06\",243\n",
    "\"1953-07\",264\n",
    "\"1953-08\",272\n",
    "\"1953-09\",237\n",
    "\"1953-10\",211\n",
    "\"1953-11\",180\n",
    "\"1953-12\",201\n",
    "\"1954-01\",204\n",
    "\"1954-02\",188\n",
    "\"1954-03\",235\n",
    "\"1954-04\",227\n",
    "\"1954-05\",234\n",
    "\"1954-06\",264\n",
    "\"1954-07\",302\n",
    "\"1954-08\",293\n",
    "\"1954-09\",259\n",
    "\"1954-10\",229\n",
    "\"1954-11\",203\n",
    "\"1954-12\",229\n",
    "\"1955-01\",242\n",
    "\"1955-02\",233\n",
    "\"1955-03\",267\n",
    "\"1955-04\",269\n",
    "\"1955-05\",270\n",
    "\"1955-06\",315\n",
    "\"1955-07\",364\n",
    "\"1955-08\",347\n",
    "\"1955-09\",312\n",
    "\"1955-10\",274\n",
    "\"1955-11\",237\n",
    "\"1955-12\",278\n",
    "\"1956-01\",284\n",
    "\"1956-02\",277\n",
    "\"1956-03\",317\n",
    "\"1956-04\",313\n",
    "\"1956-05\",318\n",
    "\"1956-06\",374\n",
    "\"1956-07\",413\n",
    "\"1956-08\",405\n",
    "\"1956-09\",355\n",
    "\"1956-10\",306\n",
    "\"1956-11\",271\n",
    "\"1956-12\",306\n",
    "\"1957-01\",315\n",
    "\"1957-02\",301\n",
    "\"1957-03\",356\n",
    "\"1957-04\",348\n",
    "\"1957-05\",355\n",
    "\"1957-06\",422\n",
    "\"1957-07\",465\n",
    "\"1957-08\",467\n",
    "\"1957-09\",404\n",
    "\"1957-10\",347\n",
    "\"1957-11\",305\n",
    "\"1957-12\",336\n",
    "\"1958-01\",340\n",
    "\"1958-02\",318\n",
    "\"1958-03\",362\n",
    "\"1958-04\",348\n",
    "\"1958-05\",363\n",
    "\"1958-06\",435\n",
    "\"1958-07\",491\n",
    "\"1958-08\",505\n",
    "\"1958-09\",404\n",
    "\"1958-10\",359\n",
    "\"1958-11\",310\n",
    "\"1958-12\",337\n",
    "\"1959-01\",360\n",
    "\"1959-02\",342\n",
    "\"1959-03\",406\n",
    "\"1959-04\",396\n",
    "\"1959-05\",420\n",
    "\"1959-06\",472\n",
    "\"1959-07\",548\n",
    "\"1959-08\",559\n",
    "\"1959-09\",463\n",
    "\"1959-10\",407\n",
    "\"1959-11\",362\n",
    "\"1959-12\",405\n",
    "\"1960-01\",417\n",
    "\"1960-02\",391\n",
    "\"1960-03\",419\n",
    "\"1960-04\",461\n",
    "\"1960-05\",472\n",
    "\"1960-06\",535\n",
    "\"1960-07\",622\n",
    "\"1960-08\",606\n",
    "\"1960-09\",508\n",
    "\"1960-10\",461\n",
    "\"1960-11\",390\n",
    "\"1960-12\",432\n",
    "\n",
    "International airline passengers: monthly totals in thousands. Jan 49 ? Dec 60\n",
    "\n",
    "\n",
    "\"\"\"\n",
    "import sys\n",
    "if sys.version_info[0] < 3: \n",
    "    from StringIO import StringIO\n",
    "else:\n",
    "    from io import StringIO\n",
    "\n",
    "import pandas as pd\n",
    "\n",
    "INPUT_DATA=StringIO(data)\n",
    "import pandas\n",
    "import matplotlib.pyplot as plt\n",
    "dataset0 = pandas.read_csv(INPUT_DATA, usecols=[1], engine='python', skipfooter=3)\n",
    "plt.plot(dataset0)\n",
    "plt.show()"
   ]
  },
  {
   "cell_type": "markdown",
   "metadata": {
    "collapsed": true
   },
   "source": [
    "## 월별 공항승객수 변화 그래프\n",
    "Upward 트렌드, 휴가철에 따른 주기성\n",
    "\n",
    "보통은 전처리 후 사용하지만 예제이므로 이대로 진행"
   ]
  },
  {
   "cell_type": "code",
   "execution_count": 116,
   "metadata": {},
   "outputs": [],
   "source": [
    "import numpy\n",
    "import matplotlib.pyplot as plt\n",
    "import pandas\n",
    "import math\n",
    "from keras.models import Sequential\n",
    "from keras.layers import Dense\n",
    "from keras.layers import LSTM\n",
    "from sklearn.preprocessing import MinMaxScaler\n",
    "from sklearn.metrics import mean_squared_error"
   ]
  },
  {
   "cell_type": "code",
   "execution_count": 117,
   "metadata": {
    "collapsed": true
   },
   "outputs": [],
   "source": [
    "# fix random seed for reproducibility\n",
    "numpy.random.seed(7)"
   ]
  },
  {
   "cell_type": "code",
   "execution_count": 118,
   "metadata": {
    "collapsed": true
   },
   "outputs": [],
   "source": [
    "# load the dataset\n",
    "dataset = dataset0.values\n",
    "dataset = dataset.astype('float32')"
   ]
  },
  {
   "cell_type": "code",
   "execution_count": 119,
   "metadata": {},
   "outputs": [],
   "source": [
    "# normalize the dataset\n",
    "scaler = MinMaxScaler(feature_range=(0, 1))\n",
    "dataset = scaler.fit_transform(dataset)"
   ]
  },
  {
   "cell_type": "code",
   "execution_count": 120,
   "metadata": {},
   "outputs": [
    {
     "name": "stdout",
     "output_type": "stream",
     "text": [
      "96 48\n"
     ]
    }
   ],
   "source": [
    "# split into train and test sets\n",
    "train_size = int(len(dataset) * 0.67)\n",
    "test_size = len(dataset) - train_size\n",
    "train, test = dataset[0:train_size,:], dataset[train_size:len(dataset),:]\n",
    "print(len(train), len(test))"
   ]
  },
  {
   "cell_type": "code",
   "execution_count": 121,
   "metadata": {
    "collapsed": true
   },
   "outputs": [],
   "source": [
    "# convert an array of values into a dataset matrix\n",
    "def create_dataset(dataset, look_back=1):\n",
    "\tdataX, dataY = [], []\n",
    "\tfor i in range(len(dataset)-look_back-1):\n",
    "\t\ta = dataset[i:(i+look_back), 0]\n",
    "\t\tdataX.append(a)\n",
    "\t\tdataY.append(dataset[i + look_back, 0])\n",
    "\treturn numpy.array(dataX), numpy.array(dataY)"
   ]
  },
  {
   "cell_type": "code",
   "execution_count": 122,
   "metadata": {
    "collapsed": true
   },
   "outputs": [],
   "source": [
    "# reshape into X=t and Y=t+1\n",
    "look_back = 1\n",
    "trainX, trainY = create_dataset(train, look_back)\n",
    "testX, testY = create_dataset(test, look_back)"
   ]
  },
  {
   "cell_type": "code",
   "execution_count": 123,
   "metadata": {},
   "outputs": [
    {
     "data": {
      "text/plain": [
       "(94, 1)"
      ]
     },
     "execution_count": 123,
     "metadata": {},
     "output_type": "execute_result"
    }
   ],
   "source": [
    "trainX.shape"
   ]
  },
  {
   "cell_type": "code",
   "execution_count": 124,
   "metadata": {
    "collapsed": true
   },
   "outputs": [],
   "source": [
    "# reshape input to be [samples, time steps, features]\n",
    "# trainX = numpy.reshape(trainX, (trainX.shape[0], 1, trainX.shape[1]))\n",
    "# testX = numpy.reshape(testX, (testX.shape[0], 1, testX.shape[1]))"
   ]
  },
  {
   "cell_type": "code",
   "execution_count": 125,
   "metadata": {},
   "outputs": [
    {
     "name": "stdout",
     "output_type": "stream",
     "text": [
      "Epoch 1/100\n",
      "0s - loss: 0.0388\n",
      "Epoch 2/100\n",
      "0s - loss: 0.0164\n",
      "Epoch 3/100\n",
      "0s - loss: 0.0139\n",
      "Epoch 4/100\n",
      "0s - loss: 0.0115\n",
      "Epoch 5/100\n",
      "0s - loss: 0.0095\n",
      "Epoch 6/100\n",
      "0s - loss: 0.0075\n",
      "Epoch 7/100\n",
      "0s - loss: 0.0060\n",
      "Epoch 8/100\n",
      "0s - loss: 0.0048\n",
      "Epoch 9/100\n",
      "0s - loss: 0.0039\n",
      "Epoch 10/100\n",
      "0s - loss: 0.0032\n",
      "Epoch 11/100\n",
      "0s - loss: 0.0027\n",
      "Epoch 12/100\n",
      "0s - loss: 0.0024\n",
      "Epoch 13/100\n",
      "0s - loss: 0.0022\n",
      "Epoch 14/100\n",
      "0s - loss: 0.0021\n",
      "Epoch 15/100\n",
      "0s - loss: 0.0020\n",
      "Epoch 16/100\n",
      "0s - loss: 0.0020\n",
      "Epoch 17/100\n",
      "0s - loss: 0.0019\n",
      "Epoch 18/100\n",
      "0s - loss: 0.0020\n",
      "Epoch 19/100\n",
      "0s - loss: 0.0021\n",
      "Epoch 20/100\n",
      "0s - loss: 0.0021\n",
      "Epoch 21/100\n",
      "0s - loss: 0.0021\n",
      "Epoch 22/100\n",
      "0s - loss: 0.0021\n",
      "Epoch 23/100\n",
      "0s - loss: 0.0020\n",
      "Epoch 24/100\n",
      "0s - loss: 0.0020\n",
      "Epoch 25/100\n",
      "0s - loss: 0.0020\n",
      "Epoch 26/100\n",
      "0s - loss: 0.0021\n",
      "Epoch 27/100\n",
      "0s - loss: 0.0020\n",
      "Epoch 28/100\n",
      "0s - loss: 0.0021\n",
      "Epoch 29/100\n",
      "0s - loss: 0.0021\n",
      "Epoch 30/100\n",
      "0s - loss: 0.0021\n",
      "Epoch 31/100\n",
      "0s - loss: 0.0020\n",
      "Epoch 32/100\n",
      "0s - loss: 0.0021\n",
      "Epoch 33/100\n",
      "0s - loss: 0.0021\n",
      "Epoch 34/100\n",
      "0s - loss: 0.0021\n",
      "Epoch 35/100\n",
      "0s - loss: 0.0020\n",
      "Epoch 36/100\n",
      "0s - loss: 0.0021\n",
      "Epoch 37/100\n",
      "0s - loss: 0.0021\n",
      "Epoch 38/100\n",
      "0s - loss: 0.0021\n",
      "Epoch 39/100\n",
      "0s - loss: 0.0021\n",
      "Epoch 40/100\n",
      "0s - loss: 0.0020\n",
      "Epoch 41/100\n",
      "0s - loss: 0.0020\n",
      "Epoch 42/100\n",
      "0s - loss: 0.0020\n",
      "Epoch 43/100\n",
      "0s - loss: 0.0020\n",
      "Epoch 44/100\n",
      "0s - loss: 0.0020\n",
      "Epoch 45/100\n",
      "0s - loss: 0.0020\n",
      "Epoch 46/100\n",
      "0s - loss: 0.0021\n",
      "Epoch 47/100\n",
      "0s - loss: 0.0020\n",
      "Epoch 48/100\n",
      "0s - loss: 0.0020\n",
      "Epoch 49/100\n",
      "0s - loss: 0.0020\n",
      "Epoch 50/100\n",
      "0s - loss: 0.0021\n",
      "Epoch 51/100\n",
      "0s - loss: 0.0020\n",
      "Epoch 52/100\n",
      "0s - loss: 0.0020\n",
      "Epoch 53/100\n",
      "0s - loss: 0.0020\n",
      "Epoch 54/100\n",
      "0s - loss: 0.0020\n",
      "Epoch 55/100\n",
      "0s - loss: 0.0020\n",
      "Epoch 56/100\n",
      "0s - loss: 0.0020\n",
      "Epoch 57/100\n",
      "0s - loss: 0.0020\n",
      "Epoch 58/100\n",
      "0s - loss: 0.0021\n",
      "Epoch 59/100\n",
      "0s - loss: 0.0021\n",
      "Epoch 60/100\n",
      "0s - loss: 0.0020\n",
      "Epoch 61/100\n",
      "0s - loss: 0.0022\n",
      "Epoch 62/100\n",
      "0s - loss: 0.0021\n",
      "Epoch 63/100\n",
      "0s - loss: 0.0020\n",
      "Epoch 64/100\n",
      "0s - loss: 0.0020\n",
      "Epoch 65/100\n",
      "0s - loss: 0.0020\n",
      "Epoch 66/100\n",
      "0s - loss: 0.0021\n",
      "Epoch 67/100\n",
      "0s - loss: 0.0019\n",
      "Epoch 68/100\n",
      "0s - loss: 0.0019\n",
      "Epoch 69/100\n",
      "0s - loss: 0.0020\n",
      "Epoch 70/100\n",
      "0s - loss: 0.0020\n",
      "Epoch 71/100\n",
      "0s - loss: 0.0019\n",
      "Epoch 72/100\n",
      "0s - loss: 0.0020\n",
      "Epoch 73/100\n",
      "0s - loss: 0.0021\n",
      "Epoch 74/100\n",
      "0s - loss: 0.0020\n",
      "Epoch 75/100\n",
      "0s - loss: 0.0020\n",
      "Epoch 76/100\n",
      "0s - loss: 0.0020\n",
      "Epoch 77/100\n",
      "0s - loss: 0.0020\n",
      "Epoch 78/100\n",
      "0s - loss: 0.0020\n",
      "Epoch 79/100\n",
      "0s - loss: 0.0021\n",
      "Epoch 80/100\n",
      "0s - loss: 0.0020\n",
      "Epoch 81/100\n",
      "0s - loss: 0.0021\n",
      "Epoch 82/100\n",
      "0s - loss: 0.0020\n",
      "Epoch 83/100\n",
      "0s - loss: 0.0021\n",
      "Epoch 84/100\n",
      "0s - loss: 0.0020\n",
      "Epoch 85/100\n",
      "0s - loss: 0.0021\n",
      "Epoch 86/100\n",
      "0s - loss: 0.0021\n",
      "Epoch 87/100\n",
      "0s - loss: 0.0020\n",
      "Epoch 88/100\n",
      "0s - loss: 0.0021\n",
      "Epoch 89/100\n",
      "0s - loss: 0.0020\n",
      "Epoch 90/100\n",
      "0s - loss: 0.0020\n",
      "Epoch 91/100\n",
      "0s - loss: 0.0019\n",
      "Epoch 92/100\n",
      "0s - loss: 0.0021\n",
      "Epoch 93/100\n",
      "0s - loss: 0.0020\n",
      "Epoch 94/100\n",
      "0s - loss: 0.0020\n",
      "Epoch 95/100\n",
      "0s - loss: 0.0020\n",
      "Epoch 96/100\n",
      "0s - loss: 0.0020\n",
      "Epoch 97/100\n",
      "0s - loss: 0.0021\n",
      "Epoch 98/100\n",
      "0s - loss: 0.0020\n",
      "Epoch 99/100\n",
      "0s - loss: 0.0021\n",
      "Epoch 100/100\n",
      "0s - loss: 0.0021\n"
     ]
    },
    {
     "data": {
      "text/plain": [
       "<keras.callbacks.History at 0x280889dd0f0>"
      ]
     },
     "execution_count": 125,
     "metadata": {},
     "output_type": "execute_result"
    }
   ],
   "source": [
    "# create and fit the LSTM network\n",
    "model = Sequential()\n",
    "model.add(Dense(4, input_shape=(look_back,)))\n",
    "model.add(Dense(1))\n",
    "model.compile(loss='mean_squared_error', optimizer='adam')\n",
    "model.fit(trainX, trainY, epochs=100, batch_size=1, verbose=2)"
   ]
  },
  {
   "cell_type": "code",
   "execution_count": 126,
   "metadata": {},
   "outputs": [
    {
     "name": "stdout",
     "output_type": "stream",
     "text": [
      "Train Score: 23.43 RMSE\n",
      "Test Score: 47.66 RMSE\n"
     ]
    }
   ],
   "source": [
    "# make predictions\n",
    "trainPredict = model.predict(trainX)\n",
    "testPredict = model.predict(testX)\n",
    "# invert predictions\n",
    "trainPredict = scaler.inverse_transform(trainPredict)  # 원래 스케일로 변환\n",
    "trainY = scaler.inverse_transform([trainY])\n",
    "testPredict = scaler.inverse_transform(testPredict)\n",
    "testY = scaler.inverse_transform([testY])\n",
    "# calculate root mean squared error\n",
    "trainScore = math.sqrt(mean_squared_error(trainY[0], trainPredict[:,0]))\n",
    "print('Train Score: %.2f RMSE' % (trainScore))\n",
    "testScore = math.sqrt(mean_squared_error(testY[0], testPredict[:,0]))\n",
    "print('Test Score: %.2f RMSE' % (testScore))"
   ]
  },
  {
   "cell_type": "code",
   "execution_count": 127,
   "metadata": {},
   "outputs": [
    {
     "data": {
      "image/png": "[encoded data removed]",
      "text/plain": [
       "<matplotlib.figure.Figure at 0x2808738c208>"
      ]
     },
     "metadata": {},
     "output_type": "display_data"
    }
   ],
   "source": [
    "# shift train predictions for plotting\n",
    "trainPredictPlot = numpy.empty_like(dataset)\n",
    "trainPredictPlot[:, :] = numpy.nan\n",
    "trainPredictPlot[look_back:len(trainPredict)+look_back, :] = trainPredict\n",
    "# shift test predictions for plotting\n",
    "testPredictPlot = numpy.empty_like(dataset)\n",
    "testPredictPlot[:, :] = numpy.nan\n",
    "testPredictPlot[len(trainPredict)+(look_back*2)+1:len(dataset)-1, :] = testPredict\n",
    "# plot baseline and predictions\n",
    "plt.plot(scaler.inverse_transform(dataset))\n",
    "plt.plot(trainPredictPlot)\n",
    "plt.plot(testPredictPlot)\n",
    "plt.show()"
   ]
  },
  {
   "cell_type": "code",
   "execution_count": null,
   "metadata": {
    "collapsed": true
   },
   "outputs": [],
   "source": []
  }
 ],
 "metadata": {
  "kernelspec": {
   "display_name": "Python 3",
   "language": "python",
   "name": "python3"
  },
  "language_info": {
   "codemirror_mode": {
    "name": "ipython",
    "version": 3
   },
   "file_extension": ".py",
   "mimetype": "text/x-python",
   "name": "python",
   "nbconvert_exporter": "python",
   "pygments_lexer": "ipython3",
   "version": "3.6.1"
  }
 },
 "nbformat": 4,
 "nbformat_minor": 2
}
